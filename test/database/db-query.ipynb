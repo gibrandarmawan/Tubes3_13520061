{
 "cells": [
  {
   "cell_type": "code",
   "execution_count": 1,
   "metadata": {},
   "outputs": [],
   "source": [
    "import psycopg2 as pg\n",
    "\n",
    "conn = pg.connect(\n",
    "    user = \"cnvpeuhhrqssab\",\n",
    "    password = \"ff5dd6b6ee20aff980ce149bccd0a782ee6dbb13347aa5fc431b86d4cae60c5d\",\n",
    "    host = \"ec2-3-217-251-77.compute-1.amazonaws.com\",\n",
    "    port = \"5432\",\n",
    "    database = \"dcfnvjg2a29rfj\"\n",
    ")\n",
    "\n",
    "com = conn.cursor()"
   ]
  },
  {
   "cell_type": "code",
   "execution_count": 2,
   "metadata": {},
   "outputs": [
    {
     "data": {
      "text/plain": [
       "[(1, 'Covid', 'ACGTAGCATGCACGATCAGTACGACGCTAGCT'),\n",
       " (2, 'Flu', 'ACGTACGTAATCATG'),\n",
       " (3, 'DBD', 'GTCGCTGACGAGAT'),\n",
       " (4, 'Diare', 'ACGAGCATGTCACGTAT'),\n",
       " (5, 'HIV', 'AGTCAG'),\n",
       " (6, 'Pusing', 'ACTATCACAGATCGATGCTAGCGACGATC'),\n",
       " (7, 'Masuk Angin', 'ACTATCACAGATGTATCGATGCTAG'),\n",
       " (8, 'Demam', 'ACGTACCTACG'),\n",
       " (9, 'Covid 19', 'ACTATCACAACGATCGATGAAGATGAATGATAGTC')]"
      ]
     },
     "execution_count": 2,
     "metadata": {},
     "output_type": "execute_result"
    }
   ],
   "source": [
    "com.execute(\"SELECT * FROM penyakit\")\n",
    "com.fetchall()"
   ]
  },
  {
   "cell_type": "code",
   "execution_count": 3,
   "metadata": {},
   "outputs": [
    {
     "data": {
      "text/plain": [
       "[(1, 'Tejo', datetime.date(2020, 3, 1), 'Covid', 'True', 100),\n",
       " (2, 'Alex', datetime.date(2020, 3, 2), 'Flu', 'False', 50),\n",
       " (3, 'John', datetime.date(2020, 3, 3), 'DBD', 'False', 50),\n",
       " (4, 'Fikri', datetime.date(2022, 4, 23), 'Diare', 'True', 100),\n",
       " (5, 'Fikri', datetime.date(2022, 4, 23), 'Diare', 'False', 58),\n",
       " (6, 'Fikri', datetime.date(2022, 4, 25), 'DBD', 'False', 50),\n",
       " (7, 'Fikri', datetime.date(2022, 4, 27), 'Covid', 'False', 0),\n",
       " (8, 'Fikri', datetime.date(2022, 4, 27), 'Covid', 'False', 0),\n",
       " (9, 'Fikri', datetime.date(2022, 4, 27), 'HIV', 'False', 50),\n",
       " (10, 'Fikri', datetime.date(2022, 4, 27), 'Diare', 'False', 41),\n",
       " (11, 'Fikri', datetime.date(2022, 4, 27), 'Pusing', 'True', 100),\n",
       " (12, 'Fikri', datetime.date(2022, 4, 27), 'Pusing', 'True', 100),\n",
       " (13, 'Fikri', datetime.date(2022, 4, 27), 'Pusing', 'True', 100),\n",
       " (14, 'Ubay', datetime.date(2022, 4, 27), 'Pusing', 'True', 100),\n",
       " (15, 'Ubay', datetime.date(2022, 4, 27), 'Covid', 'False', 0),\n",
       " (16, 'Gibran', datetime.date(2022, 4, 27), 'Masuk Angin', 'True', 100),\n",
       " (17, 'Gibran', datetime.date(2022, 4, 27), 'Masuk Angin', 'True', 100),\n",
       " (18, 'Gibran', datetime.date(2022, 4, 27), 'Diare', 'False', 41),\n",
       " (19, 'Gibran', datetime.date(2022, 4, 27), 'Pusing', 'False', 0),\n",
       " (20, 'Fikri', datetime.date(2022, 4, 27), 'HIV', 'False', 50),\n",
       " (21, 'Fikri', datetime.date(2022, 4, 27), 'Covid', 'False', 0),\n",
       " (22, 'Ken', datetime.date(2022, 4, 27), 'Demam', 'True', 90),\n",
       " (23, 'budi', datetime.date(2022, 4, 27), 'Demam', 'True', 100),\n",
       " (24, 'budi', datetime.date(2022, 4, 27), 'Masuk Angin', 'False', 0),\n",
       " (25, 'budi', datetime.date(2022, 4, 27), 'Diare', 'False', 0),\n",
       " (26, 'budi', datetime.date(2022, 4, 27), 'Diare', 'False', 0),\n",
       " (27, 'Gibran', datetime.date(2022, 4, 27), 'Masuk Angin', 'False', 0),\n",
       " (28, 'fikri', datetime.date(2022, 4, 27), 'Demam', 'True', 100),\n",
       " (29, 'manik', datetime.date(2022, 4, 28), 'Demam', 'True', 100),\n",
       " (30, 'manik', datetime.date(2022, 4, 28), 'HIV', 'False', 33),\n",
       " (31, 'Fikri', datetime.date(2022, 4, 28), 'Covid', 'False', 37),\n",
       " (32, 'Fikri', datetime.date(2022, 4, 28), 'Pusing', 'False', 58),\n",
       " (65, 'Fikri', datetime.date(2022, 4, 29), 'Covid 19', 'True', 100),\n",
       " (66, 'Fikri', datetime.date(2022, 4, 29), 'Pusing', 'False', 44),\n",
       " (67, 'Fikri', datetime.date(2022, 4, 29), 'Covid 19', 'True', 100),\n",
       " (68, 'Fikri', datetime.date(2022, 4, 29), 'Pusing', 'False', 44),\n",
       " (69, 'Fikri', datetime.date(2022, 4, 29), 'Covid 19', 'True', 94),\n",
       " (70, 'Fikri', datetime.date(2022, 4, 29), 'Covid 19', 'True', 94)]"
      ]
     },
     "execution_count": 3,
     "metadata": {},
     "output_type": "execute_result"
    }
   ],
   "source": [
    "com.execute(\"SELECT * FROM hasil_prediksi\")\n",
    "com.fetchall()"
   ]
  }
 ],
 "metadata": {
  "interpreter": {
   "hash": "669c57335d814790a0a8ea20dc08c100929a5b6e7176d5937f3f567eb2cddf61"
  },
  "kernelspec": {
   "display_name": "Python 3.7.9 64-bit",
   "language": "python",
   "name": "python3"
  },
  "language_info": {
   "codemirror_mode": {
    "name": "ipython",
    "version": 3
   },
   "file_extension": ".py",
   "mimetype": "text/x-python",
   "name": "python",
   "nbconvert_exporter": "python",
   "pygments_lexer": "ipython3",
   "version": "3.7.9"
  },
  "orig_nbformat": 4
 },
 "nbformat": 4,
 "nbformat_minor": 2
}
